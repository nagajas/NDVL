{
  "cells": [
    {
      "cell_type": "code",
      "execution_count": 5,
      "metadata": {
        "colab": {
          "base_uri": "https://localhost:8080/"
        },
        "id": "Eh7SxgLTyCVO",
        "outputId": "eb3971f2-da17-48c5-b5f7-4b404216aeb9"
      },
      "outputs": [
        {
          "name": "stdout",
          "output_type": "stream",
          "text": [
            "--2024-10-17 10:26:50--  https://huggingface.co/datasets/dim/SemEvalSubtask2/resolve/main/training_data/all_videos_and_audios.tar.gz?download=true\n",
            "Resolving huggingface.co (huggingface.co)... 108.156.201.58, 108.156.201.102, 108.156.201.48, ...\n",
            "Connecting to huggingface.co (huggingface.co)|108.156.201.58|:443... connected.\n",
            "HTTP request sent, awaiting response... 302 Found\n",
            "Location: https://cdn-lfs-us-1.hf.co/repos/bc/1d/bc1d3a3f695e1279fa7b4ae4f9799c59e08609b600b8d69bf962eb749818ffa8/ba6bec9a4c5d56de62d8ca9341a8a8a401e5b6d86f73a5ed118b97842e8566e0?response-content-disposition=attachment%3B+filename*%3DUTF-8%27%27all_videos_and_audios.tar.gz%3B+filename%3D%22all_videos_and_audios.tar.gz%22%3B&response-content-type=application%2Fgzip&Expires=1729420010&Policy=eyJTdGF0ZW1lbnQiOlt7IkNvbmRpdGlvbiI6eyJEYXRlTGVzc1RoYW4iOnsiQVdTOkVwb2NoVGltZSI6MTcyOTQyMDAxMH19LCJSZXNvdXJjZSI6Imh0dHBzOi8vY2RuLWxmcy11cy0xLmhmLmNvL3JlcG9zL2JjLzFkL2JjMWQzYTNmNjk1ZTEyNzlmYTdiNGFlNGY5Nzk5YzU5ZTA4NjA5YjYwMGI4ZDY5YmY5NjJlYjc0OTgxOGZmYTgvYmE2YmVjOWE0YzVkNTZkZTYyZDhjYTkzNDFhOGE4YTQwMWU1YjZkODZmNzNhNWVkMTE4Yjk3ODQyZTg1NjZlMD9yZXNwb25zZS1jb250ZW50LWRpc3Bvc2l0aW9uPSomcmVzcG9uc2UtY29udGVudC10eXBlPSoifV19&Signature=LzFZLV-uYsZv62DT-RnhoQ99daiok3Fce-H1WgPxe8cZUpLpPB0n0w22pgA%7EXwz4%7EoL7hfPqphXSfV9dJJrMkE3BxDWBUrz69osQFBPQ7yHuHq%7Ecv6cBeMZNVlbyj6qxqF6pkTEXWgL%7ExZRDuuyjMYfN1EthEWPerigDFFo9dv9kIKRtXHkmpvQFGqQN2D5myizdNsmxT9lCBKFp8ifhalB%7ErwKxyJHTSCLUh10dnz2P5ogvojZwqOBKSZCegWpb8oikl6hR4abhlMAEtcih-qvo0pVFw01FHGsc7o3G2IAzEku7dgYL3cz0PaHKtRFXDUbSVm9YFfPA%7ELukVXCHMA__&Key-Pair-Id=K24J24Z295AEI9 [following]\n",
            "--2024-10-17 10:26:50--  https://cdn-lfs-us-1.hf.co/repos/bc/1d/bc1d3a3f695e1279fa7b4ae4f9799c59e08609b600b8d69bf962eb749818ffa8/ba6bec9a4c5d56de62d8ca9341a8a8a401e5b6d86f73a5ed118b97842e8566e0?response-content-disposition=attachment%3B+filename*%3DUTF-8%27%27all_videos_and_audios.tar.gz%3B+filename%3D%22all_videos_and_audios.tar.gz%22%3B&response-content-type=application%2Fgzip&Expires=1729420010&Policy=eyJTdGF0ZW1lbnQiOlt7IkNvbmRpdGlvbiI6eyJEYXRlTGVzc1RoYW4iOnsiQVdTOkVwb2NoVGltZSI6MTcyOTQyMDAxMH19LCJSZXNvdXJjZSI6Imh0dHBzOi8vY2RuLWxmcy11cy0xLmhmLmNvL3JlcG9zL2JjLzFkL2JjMWQzYTNmNjk1ZTEyNzlmYTdiNGFlNGY5Nzk5YzU5ZTA4NjA5YjYwMGI4ZDY5YmY5NjJlYjc0OTgxOGZmYTgvYmE2YmVjOWE0YzVkNTZkZTYyZDhjYTkzNDFhOGE4YTQwMWU1YjZkODZmNzNhNWVkMTE4Yjk3ODQyZTg1NjZlMD9yZXNwb25zZS1jb250ZW50LWRpc3Bvc2l0aW9uPSomcmVzcG9uc2UtY29udGVudC10eXBlPSoifV19&Signature=LzFZLV-uYsZv62DT-RnhoQ99daiok3Fce-H1WgPxe8cZUpLpPB0n0w22pgA%7EXwz4%7EoL7hfPqphXSfV9dJJrMkE3BxDWBUrz69osQFBPQ7yHuHq%7Ecv6cBeMZNVlbyj6qxqF6pkTEXWgL%7ExZRDuuyjMYfN1EthEWPerigDFFo9dv9kIKRtXHkmpvQFGqQN2D5myizdNsmxT9lCBKFp8ifhalB%7ErwKxyJHTSCLUh10dnz2P5ogvojZwqOBKSZCegWpb8oikl6hR4abhlMAEtcih-qvo0pVFw01FHGsc7o3G2IAzEku7dgYL3cz0PaHKtRFXDUbSVm9YFfPA%7ELukVXCHMA__&Key-Pair-Id=K24J24Z295AEI9\n",
            "Resolving cdn-lfs-us-1.hf.co (cdn-lfs-us-1.hf.co)... 18.238.176.91, 18.238.176.83, 18.238.176.92, ...\n",
            "Connecting to cdn-lfs-us-1.hf.co (cdn-lfs-us-1.hf.co)|18.238.176.91|:443... connected.\n",
            "HTTP request sent, awaiting response... 200 OK\n",
            "Length: 15593337500 (15G) [application/gzip]\n",
            "Saving to: ‘all_videos_and_audios.tar.gz’\n",
            "\n",
            "all_videos_and_audi 100%[===================>]  14.52G  8.26MB/s    in 2m 2s   \n",
            "\n",
            "2024-10-17 10:28:53 (122 MB/s) - ‘all_videos_and_audios.tar.gz’ saved [15593337500/15593337500]\n",
            "\n"
          ]
        }
      ],
      "source": [
        "# Download and extract data\n",
        "!wget https://huggingface.co/datasets/dim/SemEvalSubtask2/resolve/main/training_data/all_videos_and_audios.tar.gz?download=true -O all_videos_and_audios.tar.gz\n",
        "!tar -xf all_videos_and_audios.tar.gz\n"
      ]
    },
    {
      "cell_type": "code",
      "execution_count": 6,
      "metadata": {
        "colab": {
          "base_uri": "https://localhost:8080/"
        },
        "id": "AG44GKrhA_MY",
        "outputId": "e8dcdd3c-dd33-4b78-a2fd-b69fbddc62e1"
      },
      "outputs": [
        {
          "name": "stdout",
          "output_type": "stream",
          "text": [
            "--2024-10-17 10:34:06--  https://huggingface.co/datasets/dim/SemEvalSubtask2/resolve/main/training_data/Subtask_2_train.json?download=true\n",
            "Resolving huggingface.co (huggingface.co)... 18.238.109.121, 18.238.109.102, 18.238.109.92, ...\n",
            "Connecting to huggingface.co (huggingface.co)|18.238.109.121|:443... connected.\n",
            "HTTP request sent, awaiting response... 200 OK\n",
            "Length: 4451198 (4.2M) [text/plain]\n",
            "Saving to: ‘train.json’\n",
            "\n",
            "train.json          100%[===================>]   4.24M  17.8MB/s    in 0.2s    \n",
            "\n",
            "2024-10-17 10:34:06 (17.8 MB/s) - ‘train.json’ saved [4451198/4451198]\n",
            "\n"
          ]
        }
      ],
      "source": [
        "!wget https://huggingface.co/datasets/dim/SemEvalSubtask2/resolve/main/training_data/Subtask_2_train.json?download=true -O train.json\n"
      ]
    },
    {
      "cell_type": "code",
      "execution_count": null,
      "metadata": {
        "id": "ln_KW7_m9p-b"
      },
      "outputs": [],
      "source": []
    }
  ],
  "metadata": {
    "colab": {
      "provenance": []
    },
    "kernelspec": {
      "display_name": "Python 3",
      "name": "python3"
    },
    "language_info": {
      "name": "python",
      "version": "3.12.1"
    }
  },
  "nbformat": 4,
  "nbformat_minor": 0
}
